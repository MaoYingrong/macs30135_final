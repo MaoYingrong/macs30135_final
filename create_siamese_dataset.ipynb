{
 "cells": [
  {
   "cell_type": "code",
   "execution_count": 34,
   "metadata": {},
   "outputs": [],
   "source": [
    "import os\n",
    "import random\n",
    "from itertools import combinations\n",
    "from collections import defaultdict\n",
    "import pandas as pd"
   ]
  },
  {
   "cell_type": "code",
   "execution_count": 37,
   "metadata": {},
   "outputs": [],
   "source": [
    "data = {\"File Name\": [], \"Folder Path\": []}\n",
    "\n",
    "for i in range(10):\n",
    "    folder_path = f\"c_{i}\"\n",
    "    files = [f for f in os.listdir(folder_path) if os.path.isfile(os.path.join(folder_path, f))]\n",
    "    files = [file_path for file_path in files if file_path.lower().endswith(('.png', '.jpg', '.jpeg', '.gif', '.bmp'))]\n",
    "    \n",
    "    for file in files:\n",
    "        data[\"File Name\"].append(file)\n",
    "        data[\"Folder Path\"].append(folder_path)\n",
    "\n",
    "df = pd.DataFrame(data)"
   ]
  },
  {
   "cell_type": "code",
   "execution_count": 38,
   "metadata": {},
   "outputs": [],
   "source": [
    "df.to_csv(\"ordered_data.csv\", index=False)"
   ]
  },
  {
   "cell_type": "code",
   "execution_count": 25,
   "metadata": {},
   "outputs": [
    {
     "data": {
      "text/plain": [
       "(1913, 1913)"
      ]
     },
     "execution_count": 25,
     "metadata": {},
     "output_type": "execute_result"
    }
   ],
   "source": [
    "len(final_anchor_result), len(final_positive_result)"
   ]
  },
  {
   "cell_type": "code",
   "execution_count": 28,
   "metadata": {},
   "outputs": [
    {
     "name": "stdout",
     "output_type": "stream",
     "text": [
      "['g_0.jpg', 'bb_1.jpg', 'ao_1.jpg', 'bd_7.jpg', 'am_3.jpg', 'am_2.jpg', 'bd_6.jpg', 'ao_0.jpg', 'g_1.jpg', 'e_1.jpg', 'av_0.jpg', 'bd_4.jpg', 'am_0.jpg', 'am_1.jpg', 'bd_5.jpg', 'av_1.jpg', 'e_0.jpg', 'ar_1.jpg', 'ai_1.jpg', 'a_0.jpg', 'bd_1.jpg', '.DS_Store', 'z_0.jpg', 'z_1.jpg', 'bd_0.jpg', 'a_1.jpg', 'ai_0.jpg', 'ar_0.jpg', 'ak_0.jpg', 'ap_0.jpg', 'x_1.jpg', 'bd_2.jpg', 'c_1.jpg', 'bf_0.jpg', 'bf_1.jpg', 'c_0.jpg', 'x_0.jpg', 'bd_3.jpg', 'ap_1.jpg', 'ak_1.jpg', 'al_0.jpg', 'au_2.jpg', 'aw_0.jpg', 'bc_2.jpg', 'd_1.jpg', 'ba_0.jpg', 'ba_1.jpg', 'd_0.jpg', 'bc_3.jpg', 'y_6.jpg', 'aw_1.jpg', 'al_1.jpg', 'al_3.jpg', 'au_1.jpg', 'an_1.jpg', 'y_4.jpg', 'f_0.jpg', 'bc_1.jpg', 'bc_0.jpg', 'f_1.jpg', 'y_5.jpg', 'an_0.jpg', 'au_0.jpg', 'b_1.jpg', 'bg_0.jpg', 'y_1.jpg', 'bc_4.jpg', 'aq_0.jpg', 'as_2.jpg', 'as_3.jpg', 'aq_1.jpg', 'y_0.jpg', 'bg_1.jpg', 'b_0.jpg', 'y_2.jpg', 'be_1.jpg', 'ah_1.jpg', 'as_1.jpg', 'as_0.jpg', 'ah_0.jpg', 'y_3.jpg', 'be_0.jpg', 'cluster_2985.jpg', 'cluster_2991.jpg', 'cluster_2977.jpg', 'bi_0.jpg', 'l_1.jpg', 'w_1.jpg', 'ad_0.jpg', 'ad_1.jpg', 'w_0.jpg', 'l_0.jpg', 'bi_1.jpg', 'u_0.jpg', 'bk_1.jpg', 'n_0.jpg', 'af_1.jpg', 'af_0.jpg', 'n_1.jpg', 'bk_0.jpg', 'bi_2.jpg', 'u_1.jpg', 'ab_0.jpg', 'ay_0.jpg', 'q_1.jpg', 'j_1.jpg', 'j_0.jpg', 's_2.jpg', 'q_0.jpg', 'ay_1.jpg', 'ab_1.jpg', 'h_0.jpg', 's_0.jpg', 's_1.jpg', 'h_1.jpg', 'k_4.jpg', 'ag_1.jpg', 'i_6.jpg', 'bj_1.jpg', 'o_0.jpg', 't_0.jpg', 't_1.jpg', 'o_1.jpg', 'bj_0.jpg', 'ag_0.jpg', 'k_5.jpg', 'ae_0.jpg', 'i_5.jpg', 'bj_2.jpg', 't_3.jpg', 'm_1.jpg', 'm_0.jpg', 't_2.jpg', 'bj_3.jpg', 'i_4.jpg', 'k_6.jpg', 'ae_1.jpg', 'r_0.jpg', 'k_2.jpg', 'i_0.jpg', 'bd_8.jpg', 'aa_1.jpg', 'az_1.jpg', 'az_0.jpg', 'aa_0.jpg', 'i_1.jpg', 'k_3.jpg', 'r_1.jpg', 'k_1.jpg', 'p_1.jpg', 'i_3.jpg', 'ax_0.jpg', 'bj_4.jpg', 'az_2.jpg', 't_5.jpg', 'ac_0.jpg', 'ac_1.jpg', 't_4.jpg', 'ax_1.jpg', 'i_2.jpg', 'p_0.jpg', 'k_0.jpg']\n"
     ]
    }
   ],
   "source": [
    "folder_path = \"c_-1\"\n",
    "files = [f for f in os.listdir(folder_path) if os.path.isfile(os.path.join(folder_path, f))]\n",
    "print(files)"
   ]
  },
  {
   "cell_type": "code",
   "execution_count": 31,
   "metadata": {},
   "outputs": [
    {
     "name": "stdout",
     "output_type": "stream",
     "text": [
      "208 208\n",
      "Anchor: ['bi_0.jpg', 'bc_1.jpg', 'bd_7.jpg', 'bk_1.jpg', 'ae_0.jpg', 's_2.jpg', 'k_4.jpg', 't_0.jpg', 'f_0.jpg', 'ar_1.jpg']\n",
      "Positive: ['bi_2.jpg', 'bc_4.jpg', 'bd_5.jpg', 'bk_0.jpg', 'ae_1.jpg', 's_0.jpg', 'k_0.jpg', 't_5.jpg', 'f_1.jpg', 'ar_0.jpg']\n"
     ]
    }
   ],
   "source": [
    "# Step 1: Group files by class (prefix before '_')\n",
    "class_groups = defaultdict(list)\n",
    "\n",
    "for filename in files:\n",
    "    class_prefix = filename.split('_')[0]  # Extract class prefix\n",
    "    class_groups[class_prefix].append(filename)\n",
    "\n",
    "# Step 2: Generate all anchor-positive pairs across all classes\n",
    "all_pairs = []\n",
    "\n",
    "for class_name, instances in class_groups.items():\n",
    "    if len(instances) < 2:\n",
    "        continue  # Skip classes with fewer than 2 instances\n",
    "\n",
    "    # Generate all unique combinations within the class\n",
    "    pairs = list(combinations(instances, 2))\n",
    "    \n",
    "    # Collect all pairs globally\n",
    "    all_pairs.extend(pairs)\n",
    "\n",
    "# Step 3: Shuffle all collected pairs together\n",
    "random.shuffle(all_pairs)\n",
    "\n",
    "# Step 5: Separate into anchor and positive lists\n",
    "anchor, positive = zip(*all_pairs)\n",
    "\n",
    "final_anchor_result.extend(list(anchor))\n",
    "final_positive_result.extend(list(positive))\n"
   ]
  },
  {
   "cell_type": "code",
   "execution_count": 29,
   "metadata": {},
   "outputs": [
    {
     "name": "stdout",
     "output_type": "stream",
     "text": [
      "Anchor: ['g_0.jpg', 'ao_1.jpg', 'bd_0.jpg', 'bd_6.jpg', 'bd_1.jpg', 'bd_1.jpg', 'bd_5.jpg', 'bd_4.jpg', 'bd_4.jpg', 'bd_6.jpg']\n",
      "Positive: ['g_1.jpg', 'ao_0.jpg', 'bd_8.jpg', 'bd_5.jpg', 'bd_0.jpg', 'bd_2.jpg', 'bd_8.jpg', 'bd_3.jpg', 'bd_2.jpg', 'bd_1.jpg']\n"
     ]
    }
   ],
   "source": [
    "# Step 1: Group files by class (prefix before '_')\n",
    "class_groups = defaultdict(list)\n",
    "\n",
    "for filename in files:\n",
    "    class_prefix = filename.split('_')[0]  # Extract class prefix\n",
    "    class_groups[class_prefix].append(filename)\n",
    "\n",
    "# Step 2: Generate combinations, shuffle, and sample per class\n",
    "anchor, positive = [], []\n",
    "\n",
    "for class_name, instances in class_groups.items():\n",
    "    if len(instances) < 2:\n",
    "        continue  # Skip classes with fewer than 2 instances\n",
    "\n",
    "    # Generate all unique combinations\n",
    "    pairs = list(combinations(instances, 2))\n",
    "\n",
    "    # Shuffle the pairs\n",
    "    random.shuffle(pairs)\n",
    "\n",
    "    # Sample up to 500 pairs (or all if fewer exist)\n",
    "    selected_pairs = random.sample(pairs, min(500, len(pairs)))\n",
    "\n",
    "    # Separate into anchor and positive lists\n",
    "    a, p = zip(*selected_pairs)\n",
    "    anchor.extend(a)\n",
    "    positive.extend(p)\n",
    "\n",
    "# Print results\n",
    "print(\"Anchor:\", anchor[:10])  # Show first 10 pairs for preview\n",
    "print(\"Positive:\", positive[:10])"
   ]
  },
  {
   "cell_type": "code",
   "execution_count": 18,
   "metadata": {},
   "outputs": [],
   "source": [
    "# Generate all permutations of size 2\n",
    "pairs = list(combinations(files, 2))\n",
    "random.shuffle(pairs)\n",
    "selected_pairs = random.sample(pairs, min(500, len(pairs)))\n",
    "\n",
    "anchor, positive = zip(*selected_pairs)\n",
    "\n",
    "# Convert to lists\n",
    "anchor = list(anchor)\n",
    "positive = list(positive)"
   ]
  },
  {
   "cell_type": "code",
   "execution_count": 19,
   "metadata": {},
   "outputs": [
    {
     "data": {
      "text/plain": [
       "(500, 500)"
      ]
     },
     "execution_count": 19,
     "metadata": {},
     "output_type": "execute_result"
    }
   ],
   "source": [
    "len(anchor), len(positive)"
   ]
  },
  {
   "cell_type": "code",
   "execution_count": 20,
   "metadata": {},
   "outputs": [
    {
     "data": {
      "text/plain": [
       "(['cluster_2930.jpg',\n",
       "  'cluster_2868.jpg',\n",
       "  'cluster_1579.jpg',\n",
       "  'cluster_2798.jpg',\n",
       "  'cluster_2866.jpg'],\n",
       " ['cluster_1576.jpg',\n",
       "  'cluster_2815.jpg',\n",
       "  'cluster_2913.jpg',\n",
       "  'cluster_2481.jpg',\n",
       "  'cluster_2899.jpg'])"
      ]
     },
     "execution_count": 20,
     "metadata": {},
     "output_type": "execute_result"
    }
   ],
   "source": [
    "anchor[:5], positive[:5]"
   ]
  },
  {
   "cell_type": "code",
   "execution_count": null,
   "metadata": {},
   "outputs": [],
   "source": []
  }
 ],
 "metadata": {
  "kernelspec": {
   "display_name": "base",
   "language": "python",
   "name": "python3"
  },
  "language_info": {
   "codemirror_mode": {
    "name": "ipython",
    "version": 3
   },
   "file_extension": ".py",
   "mimetype": "text/x-python",
   "name": "python",
   "nbconvert_exporter": "python",
   "pygments_lexer": "ipython3",
   "version": "3.11.5"
  },
  "orig_nbformat": 4
 },
 "nbformat": 4,
 "nbformat_minor": 2
}
